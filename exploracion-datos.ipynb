{
 "cells": [
  {
   "cell_type": "code",
   "execution_count": 2,
   "metadata": {},
   "outputs": [],
   "source": [
    "import pandas as pd \n",
    "import numpy as np"
   ]
  },
  {
   "cell_type": "code",
   "execution_count": 7,
   "metadata": {},
   "outputs": [
    {
     "data": {
      "text/html": [
       "<div>\n",
       "<style scoped>\n",
       "    .dataframe tbody tr th:only-of-type {\n",
       "        vertical-align: middle;\n",
       "    }\n",
       "\n",
       "    .dataframe tbody tr th {\n",
       "        vertical-align: top;\n",
       "    }\n",
       "\n",
       "    .dataframe thead th {\n",
       "        text-align: right;\n",
       "    }\n",
       "</style>\n",
       "<table border=\"1\" class=\"dataframe\">\n",
       "  <thead>\n",
       "    <tr style=\"text-align: right;\">\n",
       "      <th></th>\n",
       "      <th>X</th>\n",
       "      <th>Y</th>\n",
       "      <th>OBJECTID</th>\n",
       "      <th>FORMULARIO</th>\n",
       "      <th>CODIGO_ACCIDENTE</th>\n",
       "      <th>FECHA_OCURRENCIA_ACC</th>\n",
       "      <th>ANO_OCURRENCIA_ACC</th>\n",
       "      <th>DIRECCION</th>\n",
       "      <th>GRAVEDAD</th>\n",
       "      <th>CLASE_ACC</th>\n",
       "      <th>LOCALIDAD</th>\n",
       "      <th>FECHA_HORA_ACC</th>\n",
       "      <th>LATITUD</th>\n",
       "      <th>LONGITUD</th>\n",
       "      <th>CIV</th>\n",
       "      <th>PK_CALZADA</th>\n",
       "    </tr>\n",
       "  </thead>\n",
       "  <tbody>\n",
       "    <tr>\n",
       "      <th>0</th>\n",
       "      <td>-74.090924</td>\n",
       "      <td>4.693807</td>\n",
       "      <td>1</td>\n",
       "      <td>A000640275</td>\n",
       "      <td>4484660</td>\n",
       "      <td>2017/06/12 00:00:00+00</td>\n",
       "      <td>2017</td>\n",
       "      <td>AV AVENIDA BOYACA-CL 79 02</td>\n",
       "      <td>SOLO DANOS</td>\n",
       "      <td>CHOQUE</td>\n",
       "      <td>ENGATIVA</td>\n",
       "      <td>2017/06/12 05:30:00+00</td>\n",
       "      <td>4.693807</td>\n",
       "      <td>-74.090924</td>\n",
       "      <td>10006772.0</td>\n",
       "      <td>221236.0</td>\n",
       "    </tr>\n",
       "    <tr>\n",
       "      <th>1</th>\n",
       "      <td>-74.121000</td>\n",
       "      <td>4.603000</td>\n",
       "      <td>2</td>\n",
       "      <td>A001233353</td>\n",
       "      <td>10533499</td>\n",
       "      <td>2020/11/19 00:00:00+00</td>\n",
       "      <td>2020</td>\n",
       "      <td>CL 26 S- KR 50 02</td>\n",
       "      <td>CON HERIDOS</td>\n",
       "      <td>OTRO</td>\n",
       "      <td>PUENTE ARANDA</td>\n",
       "      <td>2020/11/19 02:05:00+00</td>\n",
       "      <td>4.603000</td>\n",
       "      <td>-74.121000</td>\n",
       "      <td>16004560.0</td>\n",
       "      <td>NaN</td>\n",
       "    </tr>\n",
       "    <tr>\n",
       "      <th>2</th>\n",
       "      <td>-74.042000</td>\n",
       "      <td>4.682000</td>\n",
       "      <td>4</td>\n",
       "      <td>A001232786</td>\n",
       "      <td>10533629</td>\n",
       "      <td>2020/11/10 00:00:00+00</td>\n",
       "      <td>2020</td>\n",
       "      <td>KR 9 - CL 100 02</td>\n",
       "      <td>SOLO DANOS</td>\n",
       "      <td>CHOQUE</td>\n",
       "      <td>USAQUEN</td>\n",
       "      <td>2020/11/10 13:30:00+00</td>\n",
       "      <td>4.682000</td>\n",
       "      <td>-74.042000</td>\n",
       "      <td>30001107.0</td>\n",
       "      <td>NaN</td>\n",
       "    </tr>\n",
       "    <tr>\n",
       "      <th>3</th>\n",
       "      <td>-74.166937</td>\n",
       "      <td>4.587187</td>\n",
       "      <td>7</td>\n",
       "      <td>A000200705</td>\n",
       "      <td>4412699</td>\n",
       "      <td>2015/05/11 00:00:00+00</td>\n",
       "      <td>2015</td>\n",
       "      <td>CL 63A-KR 72 S 02</td>\n",
       "      <td>SOLO DANOS</td>\n",
       "      <td>CHOQUE</td>\n",
       "      <td>CIUDAD BOLIVAR</td>\n",
       "      <td>2015/05/11 10:50:00+00</td>\n",
       "      <td>4.587187</td>\n",
       "      <td>-74.166937</td>\n",
       "      <td>19001483.0</td>\n",
       "      <td>136166.0</td>\n",
       "    </tr>\n",
       "    <tr>\n",
       "      <th>4</th>\n",
       "      <td>-74.092901</td>\n",
       "      <td>4.607648</td>\n",
       "      <td>8</td>\n",
       "      <td>A000402862</td>\n",
       "      <td>4447845</td>\n",
       "      <td>2016/06/08 00:00:00+00</td>\n",
       "      <td>2016</td>\n",
       "      <td>KR 27-CL 9 14</td>\n",
       "      <td>SOLO DANOS</td>\n",
       "      <td>CHOQUE</td>\n",
       "      <td>LOS MARTIRES</td>\n",
       "      <td>2016/06/08 21:30:00+00</td>\n",
       "      <td>4.607648</td>\n",
       "      <td>-74.092901</td>\n",
       "      <td>14000548.0</td>\n",
       "      <td>239719.0</td>\n",
       "    </tr>\n",
       "  </tbody>\n",
       "</table>\n",
       "</div>"
      ],
      "text/plain": [
       "           X         Y  OBJECTID  FORMULARIO  CODIGO_ACCIDENTE  \\\n",
       "0 -74.090924  4.693807         1  A000640275           4484660   \n",
       "1 -74.121000  4.603000         2  A001233353          10533499   \n",
       "2 -74.042000  4.682000         4  A001232786          10533629   \n",
       "3 -74.166937  4.587187         7  A000200705           4412699   \n",
       "4 -74.092901  4.607648         8  A000402862           4447845   \n",
       "\n",
       "     FECHA_OCURRENCIA_ACC  ANO_OCURRENCIA_ACC                   DIRECCION  \\\n",
       "0  2017/06/12 00:00:00+00                2017  AV AVENIDA BOYACA-CL 79 02   \n",
       "1  2020/11/19 00:00:00+00                2020           CL 26 S- KR 50 02   \n",
       "2  2020/11/10 00:00:00+00                2020            KR 9 - CL 100 02   \n",
       "3  2015/05/11 00:00:00+00                2015           CL 63A-KR 72 S 02   \n",
       "4  2016/06/08 00:00:00+00                2016               KR 27-CL 9 14   \n",
       "\n",
       "      GRAVEDAD CLASE_ACC       LOCALIDAD          FECHA_HORA_ACC   LATITUD  \\\n",
       "0   SOLO DANOS    CHOQUE        ENGATIVA  2017/06/12 05:30:00+00  4.693807   \n",
       "1  CON HERIDOS      OTRO   PUENTE ARANDA  2020/11/19 02:05:00+00  4.603000   \n",
       "2   SOLO DANOS    CHOQUE         USAQUEN  2020/11/10 13:30:00+00  4.682000   \n",
       "3   SOLO DANOS    CHOQUE  CIUDAD BOLIVAR  2015/05/11 10:50:00+00  4.587187   \n",
       "4   SOLO DANOS    CHOQUE    LOS MARTIRES  2016/06/08 21:30:00+00  4.607648   \n",
       "\n",
       "    LONGITUD         CIV  PK_CALZADA  \n",
       "0 -74.090924  10006772.0    221236.0  \n",
       "1 -74.121000  16004560.0         NaN  \n",
       "2 -74.042000  30001107.0         NaN  \n",
       "3 -74.166937  19001483.0    136166.0  \n",
       "4 -74.092901  14000548.0    239719.0  "
      ]
     },
     "execution_count": 7,
     "metadata": {},
     "output_type": "execute_result"
    }
   ],
   "source": [
    "df = pd.read_csv('Laboratorio-1/data/historico_siniestros_bogota.csv')\n",
    "df.head()"
   ]
  },
  {
   "cell_type": "code",
   "execution_count": 16,
   "metadata": {},
   "outputs": [
    {
     "data": {
      "text/plain": [
       "0"
      ]
     },
     "execution_count": 16,
     "metadata": {},
     "output_type": "execute_result"
    }
   ],
   "source": [
    "# duplicate data\n",
    "df.FORMULARIO.duplicated().sum()\n",
    "df.CODIGO_ACCIDENTE.duplicated().sum()"
   ]
  },
  {
   "cell_type": "code",
   "execution_count": 17,
   "metadata": {},
   "outputs": [
    {
     "data": {
      "text/plain": [
       "0"
      ]
     },
     "execution_count": 17,
     "metadata": {},
     "output_type": "execute_result"
    }
   ],
   "source": [
    "df.CODIGO_ACCIDENTE.duplicated().sum()"
   ]
  },
  {
   "cell_type": "code",
   "execution_count": null,
   "metadata": {},
   "outputs": [],
   "source": []
  }
 ],
 "metadata": {
  "kernelspec": {
   "display_name": "Python 3.10.4 64-bit",
   "language": "python",
   "name": "python3"
  },
  "language_info": {
   "codemirror_mode": {
    "name": "ipython",
    "version": 3
   },
   "file_extension": ".py",
   "mimetype": "text/x-python",
   "name": "python",
   "nbconvert_exporter": "python",
   "pygments_lexer": "ipython3",
   "version": "3.10.4"
  },
  "orig_nbformat": 4,
  "vscode": {
   "interpreter": {
    "hash": "aee8b7b246df8f9039afb4144a1f6fd8d2ca17a180786b69acc140d282b71a49"
   }
  }
 },
 "nbformat": 4,
 "nbformat_minor": 2
}
