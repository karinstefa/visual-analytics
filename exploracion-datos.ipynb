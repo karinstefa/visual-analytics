{
 "cells": [
  {
   "cell_type": "code",
   "execution_count": 1,
   "metadata": {},
   "outputs": [],
   "source": [
    "import pandas as pd \n",
    "import numpy as np"
   ]
  },
  {
   "cell_type": "code",
   "execution_count": 3,
   "metadata": {},
   "outputs": [
    {
     "data": {
      "text/html": [
       "<div>\n",
       "<style scoped>\n",
       "    .dataframe tbody tr th:only-of-type {\n",
       "        vertical-align: middle;\n",
       "    }\n",
       "\n",
       "    .dataframe tbody tr th {\n",
       "        vertical-align: top;\n",
       "    }\n",
       "\n",
       "    .dataframe thead th {\n",
       "        text-align: right;\n",
       "    }\n",
       "</style>\n",
       "<table border=\"1\" class=\"dataframe\">\n",
       "  <thead>\n",
       "    <tr style=\"text-align: right;\">\n",
       "      <th></th>\n",
       "      <th>X</th>\n",
       "      <th>Y</th>\n",
       "      <th>OBJECTID</th>\n",
       "      <th>FORMULARIO</th>\n",
       "      <th>CODIGO_ACCIDENTE</th>\n",
       "      <th>FECHA_OCURRENCIA_ACC</th>\n",
       "      <th>ANO_OCURRENCIA_ACC</th>\n",
       "      <th>DIRECCION</th>\n",
       "      <th>GRAVEDAD</th>\n",
       "      <th>CLASE_ACC</th>\n",
       "      <th>LOCALIDAD</th>\n",
       "      <th>FECHA_HORA_ACC</th>\n",
       "      <th>LATITUD</th>\n",
       "      <th>LONGITUD</th>\n",
       "      <th>CIV</th>\n",
       "      <th>PK_CALZADA</th>\n",
       "    </tr>\n",
       "  </thead>\n",
       "  <tbody>\n",
       "    <tr>\n",
       "      <th>0</th>\n",
       "      <td>-74.090924</td>\n",
       "      <td>4.693807</td>\n",
       "      <td>1</td>\n",
       "      <td>A000640275</td>\n",
       "      <td>4484660</td>\n",
       "      <td>2017/06/12 00:00:00+00</td>\n",
       "      <td>2017</td>\n",
       "      <td>AV AVENIDA BOYACA-CL 79 02</td>\n",
       "      <td>SOLO DANOS</td>\n",
       "      <td>CHOQUE</td>\n",
       "      <td>ENGATIVA</td>\n",
       "      <td>2017/06/12 05:30:00+00</td>\n",
       "      <td>4.693807</td>\n",
       "      <td>-74.090924</td>\n",
       "      <td>10006772.0</td>\n",
       "      <td>221236.0</td>\n",
       "    </tr>\n",
       "    <tr>\n",
       "      <th>1</th>\n",
       "      <td>-74.121000</td>\n",
       "      <td>4.603000</td>\n",
       "      <td>2</td>\n",
       "      <td>A001233353</td>\n",
       "      <td>10533499</td>\n",
       "      <td>2020/11/19 00:00:00+00</td>\n",
       "      <td>2020</td>\n",
       "      <td>CL 26 S- KR 50 02</td>\n",
       "      <td>CON HERIDOS</td>\n",
       "      <td>OTRO</td>\n",
       "      <td>PUENTE ARANDA</td>\n",
       "      <td>2020/11/19 02:05:00+00</td>\n",
       "      <td>4.603000</td>\n",
       "      <td>-74.121000</td>\n",
       "      <td>16004560.0</td>\n",
       "      <td>NaN</td>\n",
       "    </tr>\n",
       "    <tr>\n",
       "      <th>2</th>\n",
       "      <td>-74.042000</td>\n",
       "      <td>4.682000</td>\n",
       "      <td>4</td>\n",
       "      <td>A001232786</td>\n",
       "      <td>10533629</td>\n",
       "      <td>2020/11/10 00:00:00+00</td>\n",
       "      <td>2020</td>\n",
       "      <td>KR 9 - CL 100 02</td>\n",
       "      <td>SOLO DANOS</td>\n",
       "      <td>CHOQUE</td>\n",
       "      <td>USAQUEN</td>\n",
       "      <td>2020/11/10 13:30:00+00</td>\n",
       "      <td>4.682000</td>\n",
       "      <td>-74.042000</td>\n",
       "      <td>30001107.0</td>\n",
       "      <td>NaN</td>\n",
       "    </tr>\n",
       "    <tr>\n",
       "      <th>3</th>\n",
       "      <td>-74.166937</td>\n",
       "      <td>4.587187</td>\n",
       "      <td>7</td>\n",
       "      <td>A000200705</td>\n",
       "      <td>4412699</td>\n",
       "      <td>2015/05/11 00:00:00+00</td>\n",
       "      <td>2015</td>\n",
       "      <td>CL 63A-KR 72 S 02</td>\n",
       "      <td>SOLO DANOS</td>\n",
       "      <td>CHOQUE</td>\n",
       "      <td>CIUDAD BOLIVAR</td>\n",
       "      <td>2015/05/11 10:50:00+00</td>\n",
       "      <td>4.587187</td>\n",
       "      <td>-74.166937</td>\n",
       "      <td>19001483.0</td>\n",
       "      <td>136166.0</td>\n",
       "    </tr>\n",
       "    <tr>\n",
       "      <th>4</th>\n",
       "      <td>-74.092901</td>\n",
       "      <td>4.607648</td>\n",
       "      <td>8</td>\n",
       "      <td>A000402862</td>\n",
       "      <td>4447845</td>\n",
       "      <td>2016/06/08 00:00:00+00</td>\n",
       "      <td>2016</td>\n",
       "      <td>KR 27-CL 9 14</td>\n",
       "      <td>SOLO DANOS</td>\n",
       "      <td>CHOQUE</td>\n",
       "      <td>LOS MARTIRES</td>\n",
       "      <td>2016/06/08 21:30:00+00</td>\n",
       "      <td>4.607648</td>\n",
       "      <td>-74.092901</td>\n",
       "      <td>14000548.0</td>\n",
       "      <td>239719.0</td>\n",
       "    </tr>\n",
       "  </tbody>\n",
       "</table>\n",
       "</div>"
      ],
      "text/plain": [
       "           X         Y  OBJECTID  FORMULARIO  CODIGO_ACCIDENTE  \\\n",
       "0 -74.090924  4.693807         1  A000640275           4484660   \n",
       "1 -74.121000  4.603000         2  A001233353          10533499   \n",
       "2 -74.042000  4.682000         4  A001232786          10533629   \n",
       "3 -74.166937  4.587187         7  A000200705           4412699   \n",
       "4 -74.092901  4.607648         8  A000402862           4447845   \n",
       "\n",
       "     FECHA_OCURRENCIA_ACC  ANO_OCURRENCIA_ACC                   DIRECCION  \\\n",
       "0  2017/06/12 00:00:00+00                2017  AV AVENIDA BOYACA-CL 79 02   \n",
       "1  2020/11/19 00:00:00+00                2020           CL 26 S- KR 50 02   \n",
       "2  2020/11/10 00:00:00+00                2020            KR 9 - CL 100 02   \n",
       "3  2015/05/11 00:00:00+00                2015           CL 63A-KR 72 S 02   \n",
       "4  2016/06/08 00:00:00+00                2016               KR 27-CL 9 14   \n",
       "\n",
       "      GRAVEDAD CLASE_ACC       LOCALIDAD          FECHA_HORA_ACC   LATITUD  \\\n",
       "0   SOLO DANOS    CHOQUE        ENGATIVA  2017/06/12 05:30:00+00  4.693807   \n",
       "1  CON HERIDOS      OTRO   PUENTE ARANDA  2020/11/19 02:05:00+00  4.603000   \n",
       "2   SOLO DANOS    CHOQUE         USAQUEN  2020/11/10 13:30:00+00  4.682000   \n",
       "3   SOLO DANOS    CHOQUE  CIUDAD BOLIVAR  2015/05/11 10:50:00+00  4.587187   \n",
       "4   SOLO DANOS    CHOQUE    LOS MARTIRES  2016/06/08 21:30:00+00  4.607648   \n",
       "\n",
       "    LONGITUD         CIV  PK_CALZADA  \n",
       "0 -74.090924  10006772.0    221236.0  \n",
       "1 -74.121000  16004560.0         NaN  \n",
       "2 -74.042000  30001107.0         NaN  \n",
       "3 -74.166937  19001483.0    136166.0  \n",
       "4 -74.092901  14000548.0    239719.0  "
      ]
     },
     "execution_count": 3,
     "metadata": {},
     "output_type": "execute_result"
    }
   ],
   "source": [
    "df = pd.read_csv('data/historico_siniestros_bogota.csv')\n",
    "df.head()"
   ]
  },
  {
   "cell_type": "code",
   "execution_count": 10,
   "metadata": {},
   "outputs": [
    {
     "data": {
      "text/plain": [
       "(199146, 16)"
      ]
     },
     "execution_count": 10,
     "metadata": {},
     "output_type": "execute_result"
    }
   ],
   "source": [
    "df.shape"
   ]
  },
  {
   "cell_type": "code",
   "execution_count": 5,
   "metadata": {},
   "outputs": [
    {
     "data": {
      "text/plain": [
       "Index(['X', 'Y', 'OBJECTID', 'FORMULARIO', 'CODIGO_ACCIDENTE',\n",
       "       'FECHA_OCURRENCIA_ACC', 'ANO_OCURRENCIA_ACC', 'DIRECCION', 'GRAVEDAD',\n",
       "       'CLASE_ACC', 'LOCALIDAD', 'FECHA_HORA_ACC', 'LATITUD', 'LONGITUD',\n",
       "       'CIV', 'PK_CALZADA'],\n",
       "      dtype='object')"
      ]
     },
     "execution_count": 5,
     "metadata": {},
     "output_type": "execute_result"
    }
   ],
   "source": [
    "# duplicate data\n",
    "df.columns"
   ]
  },
  {
   "cell_type": "code",
   "execution_count": 7,
   "metadata": {},
   "outputs": [
    {
     "data": {
      "text/plain": [
       "2018    33418\n",
       "2019    32962\n",
       "2017    32415\n",
       "2016    31928\n",
       "2015    27885\n",
       "2020    22424\n",
       "2021    18114\n",
       "Name: ANO_OCURRENCIA_ACC, dtype: int64"
      ]
     },
     "execution_count": 7,
     "metadata": {},
     "output_type": "execute_result"
    }
   ],
   "source": [
    "df.ANO_OCURRENCIA_ACC.value_counts()"
   ]
  },
  {
   "cell_type": "code",
   "execution_count": 8,
   "metadata": {},
   "outputs": [
    {
     "data": {
      "text/plain": [
       "SOLO DANOS     128207\n",
       "CON HERIDOS     67700\n",
       "CON MUERTOS      3239\n",
       "Name: GRAVEDAD, dtype: int64"
      ]
     },
     "execution_count": 8,
     "metadata": {},
     "output_type": "execute_result"
    }
   ],
   "source": [
    "df.GRAVEDAD.value_counts()"
   ]
  },
  {
   "cell_type": "code",
   "execution_count": 9,
   "metadata": {},
   "outputs": [
    {
     "data": {
      "text/plain": [
       "38419"
      ]
     },
     "execution_count": 9,
     "metadata": {},
     "output_type": "execute_result"
    }
   ],
   "source": [
    "df.CIV.nunique() # el código de identificación vial (CIV)"
   ]
  },
  {
   "cell_type": "code",
   "execution_count": 11,
   "metadata": {},
   "outputs": [
    {
     "data": {
      "text/plain": [
       "37974"
      ]
     },
     "execution_count": 11,
     "metadata": {},
     "output_type": "execute_result"
    }
   ],
   "source": [
    "df.PK_CALZADA.isnull().sum()"
   ]
  },
  {
   "cell_type": "code",
   "execution_count": 12,
   "metadata": {},
   "outputs": [
    {
     "name": "stdout",
     "output_type": "stream",
     "text": [
      "<class 'pandas.core.frame.DataFrame'>\n",
      "RangeIndex: 199146 entries, 0 to 199145\n",
      "Data columns (total 16 columns):\n",
      " #   Column                Non-Null Count   Dtype  \n",
      "---  ------                --------------   -----  \n",
      " 0   X                     199146 non-null  float64\n",
      " 1   Y                     199146 non-null  float64\n",
      " 2   OBJECTID              199146 non-null  int64  \n",
      " 3   FORMULARIO            199146 non-null  object \n",
      " 4   CODIGO_ACCIDENTE      199146 non-null  int64  \n",
      " 5   FECHA_OCURRENCIA_ACC  199146 non-null  object \n",
      " 6   ANO_OCURRENCIA_ACC    199146 non-null  int64  \n",
      " 7   DIRECCION             199146 non-null  object \n",
      " 8   GRAVEDAD              199146 non-null  object \n",
      " 9   CLASE_ACC             199146 non-null  object \n",
      " 10  LOCALIDAD             199100 non-null  object \n",
      " 11  FECHA_HORA_ACC        199146 non-null  object \n",
      " 12  LATITUD               199146 non-null  float64\n",
      " 13  LONGITUD              199146 non-null  float64\n",
      " 14  CIV                   197445 non-null  float64\n",
      " 15  PK_CALZADA            161172 non-null  float64\n",
      "dtypes: float64(6), int64(3), object(7)\n",
      "memory usage: 24.3+ MB\n"
     ]
    }
   ],
   "source": [
    "df.info()"
   ]
  }
 ],
 "metadata": {
  "kernelspec": {
   "display_name": "Python 3.8.8 ('base')",
   "language": "python",
   "name": "python3"
  },
  "language_info": {
   "codemirror_mode": {
    "name": "ipython",
    "version": 3
   },
   "file_extension": ".py",
   "mimetype": "text/x-python",
   "name": "python",
   "nbconvert_exporter": "python",
   "pygments_lexer": "ipython3",
   "version": "3.8.8"
  },
  "orig_nbformat": 4,
  "vscode": {
   "interpreter": {
    "hash": "ad2bdc8ecc057115af97d19610ffacc2b4e99fae6737bb82f5d7fb13d2f2c186"
   }
  }
 },
 "nbformat": 4,
 "nbformat_minor": 2
}
