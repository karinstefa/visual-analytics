{
 "cells": [
  {
   "cell_type": "code",
   "execution_count": 1,
   "metadata": {},
   "outputs": [],
   "source": [
    "import pandas as pd \n",
    "import numpy as np"
   ]
  },
  {
   "cell_type": "code",
   "execution_count": 2,
   "metadata": {},
   "outputs": [
    {
     "data": {
      "text/html": [
       "<div>\n",
       "<style scoped>\n",
       "    .dataframe tbody tr th:only-of-type {\n",
       "        vertical-align: middle;\n",
       "    }\n",
       "\n",
       "    .dataframe tbody tr th {\n",
       "        vertical-align: top;\n",
       "    }\n",
       "\n",
       "    .dataframe thead th {\n",
       "        text-align: right;\n",
       "    }\n",
       "</style>\n",
       "<table border=\"1\" class=\"dataframe\">\n",
       "  <thead>\n",
       "    <tr style=\"text-align: right;\">\n",
       "      <th></th>\n",
       "      <th>X</th>\n",
       "      <th>Y</th>\n",
       "      <th>OBJECTID</th>\n",
       "      <th>FORMULARIO</th>\n",
       "      <th>CODIGO_ACCIDENTE</th>\n",
       "      <th>FECHA_OCURRENCIA_ACC</th>\n",
       "      <th>ANO_OCURRENCIA_ACC</th>\n",
       "      <th>DIRECCION</th>\n",
       "      <th>GRAVEDAD</th>\n",
       "      <th>CLASE_ACC</th>\n",
       "      <th>LOCALIDAD</th>\n",
       "      <th>FECHA_HORA_ACC</th>\n",
       "      <th>LATITUD</th>\n",
       "      <th>LONGITUD</th>\n",
       "      <th>CIV</th>\n",
       "      <th>PK_CALZADA</th>\n",
       "    </tr>\n",
       "  </thead>\n",
       "  <tbody>\n",
       "    <tr>\n",
       "      <th>0</th>\n",
       "      <td>-74.090924</td>\n",
       "      <td>4.693807</td>\n",
       "      <td>1</td>\n",
       "      <td>A000640275</td>\n",
       "      <td>4484660</td>\n",
       "      <td>2017/06/12 00:00:00+00</td>\n",
       "      <td>2017</td>\n",
       "      <td>AV AVENIDA BOYACA-CL 79 02</td>\n",
       "      <td>SOLO DANOS</td>\n",
       "      <td>CHOQUE</td>\n",
       "      <td>ENGATIVA</td>\n",
       "      <td>2017/06/12 05:30:00+00</td>\n",
       "      <td>4.693807</td>\n",
       "      <td>-74.090924</td>\n",
       "      <td>10006772.0</td>\n",
       "      <td>221236.0</td>\n",
       "    </tr>\n",
       "    <tr>\n",
       "      <th>1</th>\n",
       "      <td>-74.121000</td>\n",
       "      <td>4.603000</td>\n",
       "      <td>2</td>\n",
       "      <td>A001233353</td>\n",
       "      <td>10533499</td>\n",
       "      <td>2020/11/19 00:00:00+00</td>\n",
       "      <td>2020</td>\n",
       "      <td>CL 26 S- KR 50 02</td>\n",
       "      <td>CON HERIDOS</td>\n",
       "      <td>OTRO</td>\n",
       "      <td>PUENTE ARANDA</td>\n",
       "      <td>2020/11/19 02:05:00+00</td>\n",
       "      <td>4.603000</td>\n",
       "      <td>-74.121000</td>\n",
       "      <td>16004560.0</td>\n",
       "      <td>NaN</td>\n",
       "    </tr>\n",
       "    <tr>\n",
       "      <th>2</th>\n",
       "      <td>-74.042000</td>\n",
       "      <td>4.682000</td>\n",
       "      <td>4</td>\n",
       "      <td>A001232786</td>\n",
       "      <td>10533629</td>\n",
       "      <td>2020/11/10 00:00:00+00</td>\n",
       "      <td>2020</td>\n",
       "      <td>KR 9 - CL 100 02</td>\n",
       "      <td>SOLO DANOS</td>\n",
       "      <td>CHOQUE</td>\n",
       "      <td>USAQUEN</td>\n",
       "      <td>2020/11/10 13:30:00+00</td>\n",
       "      <td>4.682000</td>\n",
       "      <td>-74.042000</td>\n",
       "      <td>30001107.0</td>\n",
       "      <td>NaN</td>\n",
       "    </tr>\n",
       "    <tr>\n",
       "      <th>3</th>\n",
       "      <td>-74.166937</td>\n",
       "      <td>4.587187</td>\n",
       "      <td>7</td>\n",
       "      <td>A000200705</td>\n",
       "      <td>4412699</td>\n",
       "      <td>2015/05/11 00:00:00+00</td>\n",
       "      <td>2015</td>\n",
       "      <td>CL 63A-KR 72 S 02</td>\n",
       "      <td>SOLO DANOS</td>\n",
       "      <td>CHOQUE</td>\n",
       "      <td>CIUDAD BOLIVAR</td>\n",
       "      <td>2015/05/11 10:50:00+00</td>\n",
       "      <td>4.587187</td>\n",
       "      <td>-74.166937</td>\n",
       "      <td>19001483.0</td>\n",
       "      <td>136166.0</td>\n",
       "    </tr>\n",
       "    <tr>\n",
       "      <th>4</th>\n",
       "      <td>-74.092901</td>\n",
       "      <td>4.607648</td>\n",
       "      <td>8</td>\n",
       "      <td>A000402862</td>\n",
       "      <td>4447845</td>\n",
       "      <td>2016/06/08 00:00:00+00</td>\n",
       "      <td>2016</td>\n",
       "      <td>KR 27-CL 9 14</td>\n",
       "      <td>SOLO DANOS</td>\n",
       "      <td>CHOQUE</td>\n",
       "      <td>LOS MARTIRES</td>\n",
       "      <td>2016/06/08 21:30:00+00</td>\n",
       "      <td>4.607648</td>\n",
       "      <td>-74.092901</td>\n",
       "      <td>14000548.0</td>\n",
       "      <td>239719.0</td>\n",
       "    </tr>\n",
       "  </tbody>\n",
       "</table>\n",
       "</div>"
      ],
      "text/plain": [
       "           X         Y  OBJECTID  FORMULARIO  CODIGO_ACCIDENTE  \\\n",
       "0 -74.090924  4.693807         1  A000640275           4484660   \n",
       "1 -74.121000  4.603000         2  A001233353          10533499   \n",
       "2 -74.042000  4.682000         4  A001232786          10533629   \n",
       "3 -74.166937  4.587187         7  A000200705           4412699   \n",
       "4 -74.092901  4.607648         8  A000402862           4447845   \n",
       "\n",
       "     FECHA_OCURRENCIA_ACC  ANO_OCURRENCIA_ACC                   DIRECCION  \\\n",
       "0  2017/06/12 00:00:00+00                2017  AV AVENIDA BOYACA-CL 79 02   \n",
       "1  2020/11/19 00:00:00+00                2020           CL 26 S- KR 50 02   \n",
       "2  2020/11/10 00:00:00+00                2020            KR 9 - CL 100 02   \n",
       "3  2015/05/11 00:00:00+00                2015           CL 63A-KR 72 S 02   \n",
       "4  2016/06/08 00:00:00+00                2016               KR 27-CL 9 14   \n",
       "\n",
       "      GRAVEDAD CLASE_ACC       LOCALIDAD          FECHA_HORA_ACC   LATITUD  \\\n",
       "0   SOLO DANOS    CHOQUE        ENGATIVA  2017/06/12 05:30:00+00  4.693807   \n",
       "1  CON HERIDOS      OTRO   PUENTE ARANDA  2020/11/19 02:05:00+00  4.603000   \n",
       "2   SOLO DANOS    CHOQUE         USAQUEN  2020/11/10 13:30:00+00  4.682000   \n",
       "3   SOLO DANOS    CHOQUE  CIUDAD BOLIVAR  2015/05/11 10:50:00+00  4.587187   \n",
       "4   SOLO DANOS    CHOQUE    LOS MARTIRES  2016/06/08 21:30:00+00  4.607648   \n",
       "\n",
       "    LONGITUD         CIV  PK_CALZADA  \n",
       "0 -74.090924  10006772.0    221236.0  \n",
       "1 -74.121000  16004560.0         NaN  \n",
       "2 -74.042000  30001107.0         NaN  \n",
       "3 -74.166937  19001483.0    136166.0  \n",
       "4 -74.092901  14000548.0    239719.0  "
      ]
     },
     "execution_count": 2,
     "metadata": {},
     "output_type": "execute_result"
    }
   ],
   "source": [
    "df = pd.read_csv('historico_siniestros_bogota.csv')\n",
    "df.head()"
   ]
  },
  {
   "cell_type": "code",
   "execution_count": 3,
   "metadata": {},
   "outputs": [
    {
     "data": {
      "text/plain": [
       "(199146, 16)"
      ]
     },
     "execution_count": 3,
     "metadata": {},
     "output_type": "execute_result"
    }
   ],
   "source": [
    "df.shape"
   ]
  },
  {
   "cell_type": "code",
   "execution_count": 4,
   "metadata": {},
   "outputs": [
    {
     "data": {
      "text/plain": [
       "Index(['X', 'Y', 'OBJECTID', 'FORMULARIO', 'CODIGO_ACCIDENTE',\n",
       "       'FECHA_OCURRENCIA_ACC', 'ANO_OCURRENCIA_ACC', 'DIRECCION', 'GRAVEDAD',\n",
       "       'CLASE_ACC', 'LOCALIDAD', 'FECHA_HORA_ACC', 'LATITUD', 'LONGITUD',\n",
       "       'CIV', 'PK_CALZADA'],\n",
       "      dtype='object')"
      ]
     },
     "execution_count": 4,
     "metadata": {},
     "output_type": "execute_result"
    }
   ],
   "source": [
    "# duplicate data\n",
    "df.columns"
   ]
  },
  {
   "cell_type": "code",
   "execution_count": 5,
   "metadata": {},
   "outputs": [
    {
     "data": {
      "text/plain": [
       "2018    33418\n",
       "2019    32962\n",
       "2017    32415\n",
       "2016    31928\n",
       "2015    27885\n",
       "2020    22424\n",
       "2021    18114\n",
       "Name: ANO_OCURRENCIA_ACC, dtype: int64"
      ]
     },
     "execution_count": 5,
     "metadata": {},
     "output_type": "execute_result"
    }
   ],
   "source": [
    "df.ANO_OCURRENCIA_ACC.value_counts()"
   ]
  },
  {
   "cell_type": "code",
   "execution_count": 6,
   "metadata": {},
   "outputs": [
    {
     "data": {
      "text/plain": [
       "SOLO DANOS     128207\n",
       "CON HERIDOS     67700\n",
       "CON MUERTOS      3239\n",
       "Name: GRAVEDAD, dtype: int64"
      ]
     },
     "execution_count": 6,
     "metadata": {},
     "output_type": "execute_result"
    }
   ],
   "source": [
    "df.GRAVEDAD.value_counts()"
   ]
  },
  {
   "cell_type": "code",
   "execution_count": 7,
   "metadata": {},
   "outputs": [
    {
     "data": {
      "text/plain": [
       "38419"
      ]
     },
     "execution_count": 7,
     "metadata": {},
     "output_type": "execute_result"
    }
   ],
   "source": [
    "df.CIV.nunique() # el código de identificación vial (CIV)"
   ]
  },
  {
   "cell_type": "code",
   "execution_count": 8,
   "metadata": {},
   "outputs": [
    {
     "data": {
      "text/plain": [
       "37974"
      ]
     },
     "execution_count": 8,
     "metadata": {},
     "output_type": "execute_result"
    }
   ],
   "source": [
    "df.PK_CALZADA.isnull().sum()"
   ]
  },
  {
   "cell_type": "code",
   "execution_count": 9,
   "metadata": {},
   "outputs": [
    {
     "name": "stdout",
     "output_type": "stream",
     "text": [
      "<class 'pandas.core.frame.DataFrame'>\n",
      "RangeIndex: 199146 entries, 0 to 199145\n",
      "Data columns (total 16 columns):\n",
      " #   Column                Non-Null Count   Dtype  \n",
      "---  ------                --------------   -----  \n",
      " 0   X                     199146 non-null  float64\n",
      " 1   Y                     199146 non-null  float64\n",
      " 2   OBJECTID              199146 non-null  int64  \n",
      " 3   FORMULARIO            199146 non-null  object \n",
      " 4   CODIGO_ACCIDENTE      199146 non-null  int64  \n",
      " 5   FECHA_OCURRENCIA_ACC  199146 non-null  object \n",
      " 6   ANO_OCURRENCIA_ACC    199146 non-null  int64  \n",
      " 7   DIRECCION             199146 non-null  object \n",
      " 8   GRAVEDAD              199146 non-null  object \n",
      " 9   CLASE_ACC             199146 non-null  object \n",
      " 10  LOCALIDAD             199100 non-null  object \n",
      " 11  FECHA_HORA_ACC        199146 non-null  object \n",
      " 12  LATITUD               199146 non-null  float64\n",
      " 13  LONGITUD              199146 non-null  float64\n",
      " 14  CIV                   197445 non-null  float64\n",
      " 15  PK_CALZADA            161172 non-null  float64\n",
      "dtypes: float64(6), int64(3), object(7)\n",
      "memory usage: 24.3+ MB\n"
     ]
    }
   ],
   "source": [
    "df.info()"
   ]
  },
  {
   "cell_type": "code",
   "execution_count": null,
   "metadata": {},
   "outputs": [],
   "source": []
  },
  {
   "cell_type": "code",
   "execution_count": 10,
   "metadata": {},
   "outputs": [
    {
     "data": {
      "text/html": [
       "<div>\n",
       "<style scoped>\n",
       "    .dataframe tbody tr th:only-of-type {\n",
       "        vertical-align: middle;\n",
       "    }\n",
       "\n",
       "    .dataframe tbody tr th {\n",
       "        vertical-align: top;\n",
       "    }\n",
       "\n",
       "    .dataframe thead th {\n",
       "        text-align: right;\n",
       "    }\n",
       "</style>\n",
       "<table border=\"1\" class=\"dataframe\">\n",
       "  <thead>\n",
       "    <tr style=\"text-align: right;\">\n",
       "      <th></th>\n",
       "      <th>X</th>\n",
       "      <th>Y</th>\n",
       "      <th>OBJECTID</th>\n",
       "      <th>FORMULARIO</th>\n",
       "      <th>CODIGO_ACCIDENTE</th>\n",
       "      <th>FECHA_OCURRENCIA_ACC</th>\n",
       "      <th>ANO_OCURRENCIA_ACC</th>\n",
       "      <th>DIRECCION</th>\n",
       "      <th>GRAVEDAD</th>\n",
       "      <th>CLASE_ACC</th>\n",
       "      <th>LOCALIDAD</th>\n",
       "      <th>FECHA_HORA_ACC</th>\n",
       "      <th>LATITUD</th>\n",
       "      <th>LONGITUD</th>\n",
       "      <th>CIV</th>\n",
       "      <th>PK_CALZADA</th>\n",
       "    </tr>\n",
       "  </thead>\n",
       "  <tbody>\n",
       "    <tr>\n",
       "      <th>0</th>\n",
       "      <td>-74.090924</td>\n",
       "      <td>4.693807</td>\n",
       "      <td>1</td>\n",
       "      <td>A000640275</td>\n",
       "      <td>4484660</td>\n",
       "      <td>2017/06/12 00:00:00+00</td>\n",
       "      <td>2017</td>\n",
       "      <td>AV AVENIDA BOYACA-CL 79 02</td>\n",
       "      <td>SOLO DANOS</td>\n",
       "      <td>CHOQUE</td>\n",
       "      <td>ENGATIVA</td>\n",
       "      <td>2017/06/12 05:30:00+00</td>\n",
       "      <td>4.693807</td>\n",
       "      <td>-74.090924</td>\n",
       "      <td>10006772.0</td>\n",
       "      <td>221236.0</td>\n",
       "    </tr>\n",
       "    <tr>\n",
       "      <th>1</th>\n",
       "      <td>-74.121000</td>\n",
       "      <td>4.603000</td>\n",
       "      <td>2</td>\n",
       "      <td>A001233353</td>\n",
       "      <td>10533499</td>\n",
       "      <td>2020/11/19 00:00:00+00</td>\n",
       "      <td>2020</td>\n",
       "      <td>CL 26 S- KR 50 02</td>\n",
       "      <td>CON HERIDOS</td>\n",
       "      <td>OTRO</td>\n",
       "      <td>PUENTE ARANDA</td>\n",
       "      <td>2020/11/19 02:05:00+00</td>\n",
       "      <td>4.603000</td>\n",
       "      <td>-74.121000</td>\n",
       "      <td>16004560.0</td>\n",
       "      <td>NaN</td>\n",
       "    </tr>\n",
       "    <tr>\n",
       "      <th>2</th>\n",
       "      <td>-74.042000</td>\n",
       "      <td>4.682000</td>\n",
       "      <td>4</td>\n",
       "      <td>A001232786</td>\n",
       "      <td>10533629</td>\n",
       "      <td>2020/11/10 00:00:00+00</td>\n",
       "      <td>2020</td>\n",
       "      <td>KR 9 - CL 100 02</td>\n",
       "      <td>SOLO DANOS</td>\n",
       "      <td>CHOQUE</td>\n",
       "      <td>USAQUEN</td>\n",
       "      <td>2020/11/10 13:30:00+00</td>\n",
       "      <td>4.682000</td>\n",
       "      <td>-74.042000</td>\n",
       "      <td>30001107.0</td>\n",
       "      <td>NaN</td>\n",
       "    </tr>\n",
       "    <tr>\n",
       "      <th>3</th>\n",
       "      <td>-74.166937</td>\n",
       "      <td>4.587187</td>\n",
       "      <td>7</td>\n",
       "      <td>A000200705</td>\n",
       "      <td>4412699</td>\n",
       "      <td>2015/05/11 00:00:00+00</td>\n",
       "      <td>2015</td>\n",
       "      <td>CL 63A-KR 72 S 02</td>\n",
       "      <td>SOLO DANOS</td>\n",
       "      <td>CHOQUE</td>\n",
       "      <td>CIUDAD BOLIVAR</td>\n",
       "      <td>2015/05/11 10:50:00+00</td>\n",
       "      <td>4.587187</td>\n",
       "      <td>-74.166937</td>\n",
       "      <td>19001483.0</td>\n",
       "      <td>136166.0</td>\n",
       "    </tr>\n",
       "    <tr>\n",
       "      <th>4</th>\n",
       "      <td>-74.092901</td>\n",
       "      <td>4.607648</td>\n",
       "      <td>8</td>\n",
       "      <td>A000402862</td>\n",
       "      <td>4447845</td>\n",
       "      <td>2016/06/08 00:00:00+00</td>\n",
       "      <td>2016</td>\n",
       "      <td>KR 27-CL 9 14</td>\n",
       "      <td>SOLO DANOS</td>\n",
       "      <td>CHOQUE</td>\n",
       "      <td>LOS MARTIRES</td>\n",
       "      <td>2016/06/08 21:30:00+00</td>\n",
       "      <td>4.607648</td>\n",
       "      <td>-74.092901</td>\n",
       "      <td>14000548.0</td>\n",
       "      <td>239719.0</td>\n",
       "    </tr>\n",
       "  </tbody>\n",
       "</table>\n",
       "</div>"
      ],
      "text/plain": [
       "           X         Y  OBJECTID  FORMULARIO  CODIGO_ACCIDENTE  \\\n",
       "0 -74.090924  4.693807         1  A000640275           4484660   \n",
       "1 -74.121000  4.603000         2  A001233353          10533499   \n",
       "2 -74.042000  4.682000         4  A001232786          10533629   \n",
       "3 -74.166937  4.587187         7  A000200705           4412699   \n",
       "4 -74.092901  4.607648         8  A000402862           4447845   \n",
       "\n",
       "     FECHA_OCURRENCIA_ACC  ANO_OCURRENCIA_ACC                   DIRECCION  \\\n",
       "0  2017/06/12 00:00:00+00                2017  AV AVENIDA BOYACA-CL 79 02   \n",
       "1  2020/11/19 00:00:00+00                2020           CL 26 S- KR 50 02   \n",
       "2  2020/11/10 00:00:00+00                2020            KR 9 - CL 100 02   \n",
       "3  2015/05/11 00:00:00+00                2015           CL 63A-KR 72 S 02   \n",
       "4  2016/06/08 00:00:00+00                2016               KR 27-CL 9 14   \n",
       "\n",
       "      GRAVEDAD CLASE_ACC       LOCALIDAD          FECHA_HORA_ACC   LATITUD  \\\n",
       "0   SOLO DANOS    CHOQUE        ENGATIVA  2017/06/12 05:30:00+00  4.693807   \n",
       "1  CON HERIDOS      OTRO   PUENTE ARANDA  2020/11/19 02:05:00+00  4.603000   \n",
       "2   SOLO DANOS    CHOQUE         USAQUEN  2020/11/10 13:30:00+00  4.682000   \n",
       "3   SOLO DANOS    CHOQUE  CIUDAD BOLIVAR  2015/05/11 10:50:00+00  4.587187   \n",
       "4   SOLO DANOS    CHOQUE    LOS MARTIRES  2016/06/08 21:30:00+00  4.607648   \n",
       "\n",
       "    LONGITUD         CIV  PK_CALZADA  \n",
       "0 -74.090924  10006772.0    221236.0  \n",
       "1 -74.121000  16004560.0         NaN  \n",
       "2 -74.042000  30001107.0         NaN  \n",
       "3 -74.166937  19001483.0    136166.0  \n",
       "4 -74.092901  14000548.0    239719.0  "
      ]
     },
     "execution_count": 10,
     "metadata": {},
     "output_type": "execute_result"
    }
   ],
   "source": [
    "df.head()"
   ]
  },
  {
   "cell_type": "code",
   "execution_count": 15,
   "metadata": {},
   "outputs": [],
   "source": [
    "df['year'] = pd.DatetimeIndex(df['FECHA_HORA_ACC']).year"
   ]
  },
  {
   "cell_type": "code",
   "execution_count": 18,
   "metadata": {},
   "outputs": [],
   "source": [
    "df['month'] = pd.DatetimeIndex(df['FECHA_HORA_ACC']).month"
   ]
  },
  {
   "cell_type": "code",
   "execution_count": 21,
   "metadata": {},
   "outputs": [],
   "source": [
    "df['day'] = pd.DatetimeIndex(df['FECHA_HORA_ACC']).day"
   ]
  },
  {
   "cell_type": "code",
   "execution_count": 26,
   "metadata": {},
   "outputs": [],
   "source": [
    "df['day_name'] = pd.DatetimeIndex(df['FECHA_HORA_ACC']).day_name()"
   ]
  },
  {
   "cell_type": "code",
   "execution_count": 27,
   "metadata": {},
   "outputs": [
    {
     "data": {
      "text/html": [
       "<div>\n",
       "<style scoped>\n",
       "    .dataframe tbody tr th:only-of-type {\n",
       "        vertical-align: middle;\n",
       "    }\n",
       "\n",
       "    .dataframe tbody tr th {\n",
       "        vertical-align: top;\n",
       "    }\n",
       "\n",
       "    .dataframe thead th {\n",
       "        text-align: right;\n",
       "    }\n",
       "</style>\n",
       "<table border=\"1\" class=\"dataframe\">\n",
       "  <thead>\n",
       "    <tr style=\"text-align: right;\">\n",
       "      <th></th>\n",
       "      <th>X</th>\n",
       "      <th>Y</th>\n",
       "      <th>OBJECTID</th>\n",
       "      <th>FORMULARIO</th>\n",
       "      <th>CODIGO_ACCIDENTE</th>\n",
       "      <th>FECHA_OCURRENCIA_ACC</th>\n",
       "      <th>ANO_OCURRENCIA_ACC</th>\n",
       "      <th>DIRECCION</th>\n",
       "      <th>GRAVEDAD</th>\n",
       "      <th>CLASE_ACC</th>\n",
       "      <th>LOCALIDAD</th>\n",
       "      <th>FECHA_HORA_ACC</th>\n",
       "      <th>LATITUD</th>\n",
       "      <th>LONGITUD</th>\n",
       "      <th>CIV</th>\n",
       "      <th>PK_CALZADA</th>\n",
       "      <th>year</th>\n",
       "      <th>month</th>\n",
       "      <th>day</th>\n",
       "      <th>day_name</th>\n",
       "    </tr>\n",
       "  </thead>\n",
       "  <tbody>\n",
       "    <tr>\n",
       "      <th>0</th>\n",
       "      <td>-74.090924</td>\n",
       "      <td>4.693807</td>\n",
       "      <td>1</td>\n",
       "      <td>A000640275</td>\n",
       "      <td>4484660</td>\n",
       "      <td>2017/06/12 00:00:00+00</td>\n",
       "      <td>2017</td>\n",
       "      <td>AV AVENIDA BOYACA-CL 79 02</td>\n",
       "      <td>SOLO DANOS</td>\n",
       "      <td>CHOQUE</td>\n",
       "      <td>ENGATIVA</td>\n",
       "      <td>2017/06/12 05:30:00+00</td>\n",
       "      <td>4.693807</td>\n",
       "      <td>-74.090924</td>\n",
       "      <td>10006772.0</td>\n",
       "      <td>221236.0</td>\n",
       "      <td>2017</td>\n",
       "      <td>6</td>\n",
       "      <td>12</td>\n",
       "      <td>Monday</td>\n",
       "    </tr>\n",
       "    <tr>\n",
       "      <th>1</th>\n",
       "      <td>-74.121000</td>\n",
       "      <td>4.603000</td>\n",
       "      <td>2</td>\n",
       "      <td>A001233353</td>\n",
       "      <td>10533499</td>\n",
       "      <td>2020/11/19 00:00:00+00</td>\n",
       "      <td>2020</td>\n",
       "      <td>CL 26 S- KR 50 02</td>\n",
       "      <td>CON HERIDOS</td>\n",
       "      <td>OTRO</td>\n",
       "      <td>PUENTE ARANDA</td>\n",
       "      <td>2020/11/19 02:05:00+00</td>\n",
       "      <td>4.603000</td>\n",
       "      <td>-74.121000</td>\n",
       "      <td>16004560.0</td>\n",
       "      <td>NaN</td>\n",
       "      <td>2020</td>\n",
       "      <td>11</td>\n",
       "      <td>19</td>\n",
       "      <td>Thursday</td>\n",
       "    </tr>\n",
       "    <tr>\n",
       "      <th>2</th>\n",
       "      <td>-74.042000</td>\n",
       "      <td>4.682000</td>\n",
       "      <td>4</td>\n",
       "      <td>A001232786</td>\n",
       "      <td>10533629</td>\n",
       "      <td>2020/11/10 00:00:00+00</td>\n",
       "      <td>2020</td>\n",
       "      <td>KR 9 - CL 100 02</td>\n",
       "      <td>SOLO DANOS</td>\n",
       "      <td>CHOQUE</td>\n",
       "      <td>USAQUEN</td>\n",
       "      <td>2020/11/10 13:30:00+00</td>\n",
       "      <td>4.682000</td>\n",
       "      <td>-74.042000</td>\n",
       "      <td>30001107.0</td>\n",
       "      <td>NaN</td>\n",
       "      <td>2020</td>\n",
       "      <td>11</td>\n",
       "      <td>10</td>\n",
       "      <td>Tuesday</td>\n",
       "    </tr>\n",
       "  </tbody>\n",
       "</table>\n",
       "</div>"
      ],
      "text/plain": [
       "           X         Y  OBJECTID  FORMULARIO  CODIGO_ACCIDENTE  \\\n",
       "0 -74.090924  4.693807         1  A000640275           4484660   \n",
       "1 -74.121000  4.603000         2  A001233353          10533499   \n",
       "2 -74.042000  4.682000         4  A001232786          10533629   \n",
       "\n",
       "     FECHA_OCURRENCIA_ACC  ANO_OCURRENCIA_ACC                   DIRECCION  \\\n",
       "0  2017/06/12 00:00:00+00                2017  AV AVENIDA BOYACA-CL 79 02   \n",
       "1  2020/11/19 00:00:00+00                2020           CL 26 S- KR 50 02   \n",
       "2  2020/11/10 00:00:00+00                2020            KR 9 - CL 100 02   \n",
       "\n",
       "      GRAVEDAD CLASE_ACC      LOCALIDAD          FECHA_HORA_ACC   LATITUD  \\\n",
       "0   SOLO DANOS    CHOQUE       ENGATIVA  2017/06/12 05:30:00+00  4.693807   \n",
       "1  CON HERIDOS      OTRO  PUENTE ARANDA  2020/11/19 02:05:00+00  4.603000   \n",
       "2   SOLO DANOS    CHOQUE        USAQUEN  2020/11/10 13:30:00+00  4.682000   \n",
       "\n",
       "    LONGITUD         CIV  PK_CALZADA  year  month  day  day_name  \n",
       "0 -74.090924  10006772.0    221236.0  2017      6   12    Monday  \n",
       "1 -74.121000  16004560.0         NaN  2020     11   19  Thursday  \n",
       "2 -74.042000  30001107.0         NaN  2020     11   10   Tuesday  "
      ]
     },
     "execution_count": 27,
     "metadata": {},
     "output_type": "execute_result"
    }
   ],
   "source": [
    "df.head(3)"
   ]
  },
  {
   "cell_type": "markdown",
   "metadata": {},
   "source": [
    "agrupación por gravedad, clase de accidente y año"
   ]
  },
  {
   "cell_type": "code",
   "execution_count": 16,
   "metadata": {},
   "outputs": [],
   "source": [
    "df_a = df.groupby(['GRAVEDAD','CLASE_ACC','year']).OBJECTID.count().reset_index()"
   ]
  },
  {
   "cell_type": "code",
   "execution_count": 19,
   "metadata": {},
   "outputs": [
    {
     "data": {
      "text/html": [
       "<div>\n",
       "<style scoped>\n",
       "    .dataframe tbody tr th:only-of-type {\n",
       "        vertical-align: middle;\n",
       "    }\n",
       "\n",
       "    .dataframe tbody tr th {\n",
       "        vertical-align: top;\n",
       "    }\n",
       "\n",
       "    .dataframe thead th {\n",
       "        text-align: right;\n",
       "    }\n",
       "</style>\n",
       "<table border=\"1\" class=\"dataframe\">\n",
       "  <thead>\n",
       "    <tr style=\"text-align: right;\">\n",
       "      <th></th>\n",
       "      <th>GRAVEDAD</th>\n",
       "      <th>CLASE_ACC</th>\n",
       "      <th>year</th>\n",
       "      <th>OBJECTID</th>\n",
       "    </tr>\n",
       "  </thead>\n",
       "  <tbody>\n",
       "    <tr>\n",
       "      <th>0</th>\n",
       "      <td>CON HERIDOS</td>\n",
       "      <td>ATROPELLO</td>\n",
       "      <td>2015</td>\n",
       "      <td>3213</td>\n",
       "    </tr>\n",
       "    <tr>\n",
       "      <th>1</th>\n",
       "      <td>CON HERIDOS</td>\n",
       "      <td>ATROPELLO</td>\n",
       "      <td>2016</td>\n",
       "      <td>3177</td>\n",
       "    </tr>\n",
       "    <tr>\n",
       "      <th>2</th>\n",
       "      <td>CON HERIDOS</td>\n",
       "      <td>ATROPELLO</td>\n",
       "      <td>2017</td>\n",
       "      <td>2911</td>\n",
       "    </tr>\n",
       "  </tbody>\n",
       "</table>\n",
       "</div>"
      ],
      "text/plain": [
       "      GRAVEDAD  CLASE_ACC  year  OBJECTID\n",
       "0  CON HERIDOS  ATROPELLO  2015      3213\n",
       "1  CON HERIDOS  ATROPELLO  2016      3177\n",
       "2  CON HERIDOS  ATROPELLO  2017      2911"
      ]
     },
     "execution_count": 19,
     "metadata": {},
     "output_type": "execute_result"
    }
   ],
   "source": [
    "df_a.head(3)"
   ]
  },
  {
   "cell_type": "code",
   "execution_count": 22,
   "metadata": {},
   "outputs": [],
   "source": [
    "#df_a.to_csv('agrupacion_gravedad_clase_acc.csv')"
   ]
  },
  {
   "cell_type": "markdown",
   "metadata": {},
   "source": [
    "La clase de accidente por localidad\n"
   ]
  },
  {
   "cell_type": "code",
   "execution_count": 20,
   "metadata": {},
   "outputs": [
    {
     "data": {
      "text/html": [
       "<div>\n",
       "<style scoped>\n",
       "    .dataframe tbody tr th:only-of-type {\n",
       "        vertical-align: middle;\n",
       "    }\n",
       "\n",
       "    .dataframe tbody tr th {\n",
       "        vertical-align: top;\n",
       "    }\n",
       "\n",
       "    .dataframe thead th {\n",
       "        text-align: right;\n",
       "    }\n",
       "</style>\n",
       "<table border=\"1\" class=\"dataframe\">\n",
       "  <thead>\n",
       "    <tr style=\"text-align: right;\">\n",
       "      <th></th>\n",
       "      <th>CLASE_ACC</th>\n",
       "      <th>LOCALIDAD</th>\n",
       "      <th>year</th>\n",
       "      <th>month</th>\n",
       "      <th>OBJECTID</th>\n",
       "    </tr>\n",
       "  </thead>\n",
       "  <tbody>\n",
       "    <tr>\n",
       "      <th>0</th>\n",
       "      <td>ATROPELLO</td>\n",
       "      <td>ANTONIO NARINO</td>\n",
       "      <td>2015</td>\n",
       "      <td>1</td>\n",
       "      <td>5</td>\n",
       "    </tr>\n",
       "    <tr>\n",
       "      <th>1</th>\n",
       "      <td>ATROPELLO</td>\n",
       "      <td>ANTONIO NARINO</td>\n",
       "      <td>2015</td>\n",
       "      <td>2</td>\n",
       "      <td>4</td>\n",
       "    </tr>\n",
       "    <tr>\n",
       "      <th>2</th>\n",
       "      <td>ATROPELLO</td>\n",
       "      <td>ANTONIO NARINO</td>\n",
       "      <td>2015</td>\n",
       "      <td>3</td>\n",
       "      <td>6</td>\n",
       "    </tr>\n",
       "    <tr>\n",
       "      <th>3</th>\n",
       "      <td>ATROPELLO</td>\n",
       "      <td>ANTONIO NARINO</td>\n",
       "      <td>2015</td>\n",
       "      <td>4</td>\n",
       "      <td>6</td>\n",
       "    </tr>\n",
       "    <tr>\n",
       "      <th>4</th>\n",
       "      <td>ATROPELLO</td>\n",
       "      <td>ANTONIO NARINO</td>\n",
       "      <td>2015</td>\n",
       "      <td>5</td>\n",
       "      <td>8</td>\n",
       "    </tr>\n",
       "    <tr>\n",
       "      <th>...</th>\n",
       "      <td>...</td>\n",
       "      <td>...</td>\n",
       "      <td>...</td>\n",
       "      <td>...</td>\n",
       "      <td>...</td>\n",
       "    </tr>\n",
       "    <tr>\n",
       "      <th>6103</th>\n",
       "      <td>VOLCAMIENTO</td>\n",
       "      <td>USME</td>\n",
       "      <td>2021</td>\n",
       "      <td>2</td>\n",
       "      <td>3</td>\n",
       "    </tr>\n",
       "    <tr>\n",
       "      <th>6104</th>\n",
       "      <td>VOLCAMIENTO</td>\n",
       "      <td>USME</td>\n",
       "      <td>2021</td>\n",
       "      <td>3</td>\n",
       "      <td>2</td>\n",
       "    </tr>\n",
       "    <tr>\n",
       "      <th>6105</th>\n",
       "      <td>VOLCAMIENTO</td>\n",
       "      <td>USME</td>\n",
       "      <td>2021</td>\n",
       "      <td>4</td>\n",
       "      <td>5</td>\n",
       "    </tr>\n",
       "    <tr>\n",
       "      <th>6106</th>\n",
       "      <td>VOLCAMIENTO</td>\n",
       "      <td>USME</td>\n",
       "      <td>2021</td>\n",
       "      <td>6</td>\n",
       "      <td>2</td>\n",
       "    </tr>\n",
       "    <tr>\n",
       "      <th>6107</th>\n",
       "      <td>VOLCAMIENTO</td>\n",
       "      <td>USME</td>\n",
       "      <td>2021</td>\n",
       "      <td>7</td>\n",
       "      <td>3</td>\n",
       "    </tr>\n",
       "  </tbody>\n",
       "</table>\n",
       "<p>6108 rows × 5 columns</p>\n",
       "</div>"
      ],
      "text/plain": [
       "        CLASE_ACC       LOCALIDAD  year  month  OBJECTID\n",
       "0       ATROPELLO  ANTONIO NARINO  2015      1         5\n",
       "1       ATROPELLO  ANTONIO NARINO  2015      2         4\n",
       "2       ATROPELLO  ANTONIO NARINO  2015      3         6\n",
       "3       ATROPELLO  ANTONIO NARINO  2015      4         6\n",
       "4       ATROPELLO  ANTONIO NARINO  2015      5         8\n",
       "...           ...             ...   ...    ...       ...\n",
       "6103  VOLCAMIENTO            USME  2021      2         3\n",
       "6104  VOLCAMIENTO            USME  2021      3         2\n",
       "6105  VOLCAMIENTO            USME  2021      4         5\n",
       "6106  VOLCAMIENTO            USME  2021      6         2\n",
       "6107  VOLCAMIENTO            USME  2021      7         3\n",
       "\n",
       "[6108 rows x 5 columns]"
      ]
     },
     "execution_count": 20,
     "metadata": {},
     "output_type": "execute_result"
    }
   ],
   "source": [
    "df.groupby(['CLASE_ACC','LOCALIDAD','year','month']).OBJECTID.count().reset_index()"
   ]
  },
  {
   "cell_type": "code",
   "execution_count": 50,
   "metadata": {},
   "outputs": [
    {
     "data": {
      "text/plain": [
       "(array([ 0,  1,  2,  3,  4,  5,  6,  7,  8,  9, 10, 11, 12, 13, 14, 15, 16,\n",
       "        17, 18, 19]),\n",
       " [Text(0, 0, 'ENGATIVA'),\n",
       "  Text(1, 0, 'PUENTE ARANDA'),\n",
       "  Text(2, 0, 'USAQUEN'),\n",
       "  Text(3, 0, 'CIUDAD BOLIVAR'),\n",
       "  Text(4, 0, 'LOS MARTIRES'),\n",
       "  Text(5, 0, 'SUBA'),\n",
       "  Text(6, 0, 'FONTIBON'),\n",
       "  Text(7, 0, 'USME'),\n",
       "  Text(8, 0, 'TEUSAQUILLO'),\n",
       "  Text(9, 0, 'BARRIOS UNIDOS'),\n",
       "  Text(10, 0, 'RAFAEL URIBE URIBE'),\n",
       "  Text(11, 0, 'CHAPINERO'),\n",
       "  Text(12, 0, 'KENNEDY'),\n",
       "  Text(13, 0, 'ANTONIO NARINO'),\n",
       "  Text(14, 0, 'BOSA'),\n",
       "  Text(15, 0, 'SAN CRISTOBAL'),\n",
       "  Text(16, 0, 'CANDELARIA'),\n",
       "  Text(17, 0, 'TUNJUELITO'),\n",
       "  Text(18, 0, 'SANTA FE'),\n",
       "  Text(19, 0, 'SUMAPAZ')])"
      ]
     },
     "execution_count": 50,
     "metadata": {},
     "output_type": "execute_result"
    },
    {
     "data": {
      "text/plain": [
       "<Figure size 1080x576 with 0 Axes>"
      ]
     },
     "metadata": {},
     "output_type": "display_data"
    },
    {
     "data": {
      "image/png": "[encoded data removed]",
      "text/plain": [
       "<Figure size 978.967x595.44 with 1 Axes>"
      ]
     },
     "metadata": {
      "needs_background": "light"
     },
     "output_type": "display_data"
    }
   ],
   "source": [
    "import matplotlib.pyplot as plt\n",
    "import seaborn as sns\n",
    "plt.figure(figsize = (15,8))\n",
    "ax = sns.catplot(x=\"LOCALIDAD\", y=\"OBJECTID\", hue=\"CLASE_ACC\", kind=\"bar\", data=df, height=8.27, aspect=25.7/18.27)\n",
    "plt.xticks(rotation=45)\n"
   ]
  },
  {
   "cell_type": "code",
   "execution_count": 38,
   "metadata": {},
   "outputs": [
    {
     "data": {
      "text/plain": [
       "<seaborn.axisgrid.FacetGrid at 0x243328f12e0>"
      ]
     },
     "execution_count": 38,
     "metadata": {},
     "output_type": "execute_result"
    },
    {
     "data": {
      "image/png": "[encoded data removed]",
      "text/plain": [
       "<Figure size 983.775x595.44 with 1 Axes>"
      ]
     },
     "metadata": {
      "needs_background": "light"
     },
     "output_type": "display_data"
    }
   ],
   "source": [
    "sns.catplot(y=\"LOCALIDAD\", hue=\"CLASE_ACC\", kind=\"count\",\n",
    "            palette=\"pastel\", edgecolor=\".6\",\n",
    "            data=df, height=8.27, aspect=11.7/8.27)"
   ]
  },
  {
   "cell_type": "markdown",
   "metadata": {},
   "source": [
    "localidad de accidentes por localidad "
   ]
  },
  {
   "cell_type": "code",
   "execution_count": 24,
   "metadata": {},
   "outputs": [
    {
     "data": {
      "text/html": [
       "<div>\n",
       "<style scoped>\n",
       "    .dataframe tbody tr th:only-of-type {\n",
       "        vertical-align: middle;\n",
       "    }\n",
       "\n",
       "    .dataframe tbody tr th {\n",
       "        vertical-align: top;\n",
       "    }\n",
       "\n",
       "    .dataframe thead th {\n",
       "        text-align: right;\n",
       "    }\n",
       "</style>\n",
       "<table border=\"1\" class=\"dataframe\">\n",
       "  <thead>\n",
       "    <tr style=\"text-align: right;\">\n",
       "      <th></th>\n",
       "      <th>CLASE_ACC</th>\n",
       "      <th>LOCALIDAD</th>\n",
       "      <th>year</th>\n",
       "      <th>month</th>\n",
       "      <th>day</th>\n",
       "      <th>OBJECTID</th>\n",
       "    </tr>\n",
       "  </thead>\n",
       "  <tbody>\n",
       "    <tr>\n",
       "      <th>0</th>\n",
       "      <td>ATROPELLO</td>\n",
       "      <td>ANTONIO NARINO</td>\n",
       "      <td>2015</td>\n",
       "      <td>1</td>\n",
       "      <td>15</td>\n",
       "      <td>1</td>\n",
       "    </tr>\n",
       "    <tr>\n",
       "      <th>1</th>\n",
       "      <td>ATROPELLO</td>\n",
       "      <td>ANTONIO NARINO</td>\n",
       "      <td>2015</td>\n",
       "      <td>1</td>\n",
       "      <td>22</td>\n",
       "      <td>1</td>\n",
       "    </tr>\n",
       "    <tr>\n",
       "      <th>2</th>\n",
       "      <td>ATROPELLO</td>\n",
       "      <td>ANTONIO NARINO</td>\n",
       "      <td>2015</td>\n",
       "      <td>1</td>\n",
       "      <td>23</td>\n",
       "      <td>1</td>\n",
       "    </tr>\n",
       "    <tr>\n",
       "      <th>3</th>\n",
       "      <td>ATROPELLO</td>\n",
       "      <td>ANTONIO NARINO</td>\n",
       "      <td>2015</td>\n",
       "      <td>1</td>\n",
       "      <td>25</td>\n",
       "      <td>1</td>\n",
       "    </tr>\n",
       "    <tr>\n",
       "      <th>4</th>\n",
       "      <td>ATROPELLO</td>\n",
       "      <td>ANTONIO NARINO</td>\n",
       "      <td>2015</td>\n",
       "      <td>1</td>\n",
       "      <td>29</td>\n",
       "      <td>1</td>\n",
       "    </tr>\n",
       "    <tr>\n",
       "      <th>...</th>\n",
       "      <td>...</td>\n",
       "      <td>...</td>\n",
       "      <td>...</td>\n",
       "      <td>...</td>\n",
       "      <td>...</td>\n",
       "      <td>...</td>\n",
       "    </tr>\n",
       "    <tr>\n",
       "      <th>62574</th>\n",
       "      <td>VOLCAMIENTO</td>\n",
       "      <td>USME</td>\n",
       "      <td>2021</td>\n",
       "      <td>6</td>\n",
       "      <td>24</td>\n",
       "      <td>1</td>\n",
       "    </tr>\n",
       "    <tr>\n",
       "      <th>62575</th>\n",
       "      <td>VOLCAMIENTO</td>\n",
       "      <td>USME</td>\n",
       "      <td>2021</td>\n",
       "      <td>6</td>\n",
       "      <td>25</td>\n",
       "      <td>1</td>\n",
       "    </tr>\n",
       "    <tr>\n",
       "      <th>62576</th>\n",
       "      <td>VOLCAMIENTO</td>\n",
       "      <td>USME</td>\n",
       "      <td>2021</td>\n",
       "      <td>7</td>\n",
       "      <td>5</td>\n",
       "      <td>1</td>\n",
       "    </tr>\n",
       "    <tr>\n",
       "      <th>62577</th>\n",
       "      <td>VOLCAMIENTO</td>\n",
       "      <td>USME</td>\n",
       "      <td>2021</td>\n",
       "      <td>7</td>\n",
       "      <td>6</td>\n",
       "      <td>1</td>\n",
       "    </tr>\n",
       "    <tr>\n",
       "      <th>62578</th>\n",
       "      <td>VOLCAMIENTO</td>\n",
       "      <td>USME</td>\n",
       "      <td>2021</td>\n",
       "      <td>7</td>\n",
       "      <td>11</td>\n",
       "      <td>1</td>\n",
       "    </tr>\n",
       "  </tbody>\n",
       "</table>\n",
       "<p>62579 rows × 6 columns</p>\n",
       "</div>"
      ],
      "text/plain": [
       "         CLASE_ACC       LOCALIDAD  year  month  day  OBJECTID\n",
       "0        ATROPELLO  ANTONIO NARINO  2015      1   15         1\n",
       "1        ATROPELLO  ANTONIO NARINO  2015      1   22         1\n",
       "2        ATROPELLO  ANTONIO NARINO  2015      1   23         1\n",
       "3        ATROPELLO  ANTONIO NARINO  2015      1   25         1\n",
       "4        ATROPELLO  ANTONIO NARINO  2015      1   29         1\n",
       "...            ...             ...   ...    ...  ...       ...\n",
       "62574  VOLCAMIENTO            USME  2021      6   24         1\n",
       "62575  VOLCAMIENTO            USME  2021      6   25         1\n",
       "62576  VOLCAMIENTO            USME  2021      7    5         1\n",
       "62577  VOLCAMIENTO            USME  2021      7    6         1\n",
       "62578  VOLCAMIENTO            USME  2021      7   11         1\n",
       "\n",
       "[62579 rows x 6 columns]"
      ]
     },
     "execution_count": 24,
     "metadata": {},
     "output_type": "execute_result"
    }
   ],
   "source": [
    "df.groupby(['CLASE_ACC','LOCALIDAD','year','month','day']).OBJECTID.count().reset_index()"
   ]
  },
  {
   "cell_type": "code",
   "execution_count": 62,
   "metadata": {},
   "outputs": [
    {
     "data": {
      "text/html": [
       "<div>\n",
       "<style scoped>\n",
       "    .dataframe tbody tr th:only-of-type {\n",
       "        vertical-align: middle;\n",
       "    }\n",
       "\n",
       "    .dataframe tbody tr th {\n",
       "        vertical-align: top;\n",
       "    }\n",
       "\n",
       "    .dataframe thead th {\n",
       "        text-align: right;\n",
       "    }\n",
       "</style>\n",
       "<table border=\"1\" class=\"dataframe\">\n",
       "  <thead>\n",
       "    <tr style=\"text-align: right;\">\n",
       "      <th></th>\n",
       "      <th>LOCALIDAD</th>\n",
       "    </tr>\n",
       "  </thead>\n",
       "  <tbody>\n",
       "    <tr>\n",
       "      <th>KENNEDY</th>\n",
       "      <td>23661</td>\n",
       "    </tr>\n",
       "    <tr>\n",
       "      <th>ENGATIVA</th>\n",
       "      <td>20928</td>\n",
       "    </tr>\n",
       "    <tr>\n",
       "      <th>USAQUEN</th>\n",
       "      <td>19292</td>\n",
       "    </tr>\n",
       "    <tr>\n",
       "      <th>SUBA</th>\n",
       "      <td>18973</td>\n",
       "    </tr>\n",
       "    <tr>\n",
       "      <th>FONTIBON</th>\n",
       "      <td>16377</td>\n",
       "    </tr>\n",
       "    <tr>\n",
       "      <th>PUENTE ARANDA</th>\n",
       "      <td>14143</td>\n",
       "    </tr>\n",
       "    <tr>\n",
       "      <th>CHAPINERO</th>\n",
       "      <td>11696</td>\n",
       "    </tr>\n",
       "    <tr>\n",
       "      <th>TEUSAQUILLO</th>\n",
       "      <td>10167</td>\n",
       "    </tr>\n",
       "    <tr>\n",
       "      <th>BARRIOS UNIDOS</th>\n",
       "      <td>10094</td>\n",
       "    </tr>\n",
       "    <tr>\n",
       "      <th>BOSA</th>\n",
       "      <td>9417</td>\n",
       "    </tr>\n",
       "    <tr>\n",
       "      <th>CIUDAD BOLIVAR</th>\n",
       "      <td>8005</td>\n",
       "    </tr>\n",
       "    <tr>\n",
       "      <th>LOS MARTIRES</th>\n",
       "      <td>6250</td>\n",
       "    </tr>\n",
       "    <tr>\n",
       "      <th>SANTA FE</th>\n",
       "      <td>5451</td>\n",
       "    </tr>\n",
       "    <tr>\n",
       "      <th>TUNJUELITO</th>\n",
       "      <td>5351</td>\n",
       "    </tr>\n",
       "    <tr>\n",
       "      <th>SAN CRISTOBAL</th>\n",
       "      <td>5335</td>\n",
       "    </tr>\n",
       "    <tr>\n",
       "      <th>RAFAEL URIBE URIBE</th>\n",
       "      <td>5333</td>\n",
       "    </tr>\n",
       "    <tr>\n",
       "      <th>USME</th>\n",
       "      <td>4017</td>\n",
       "    </tr>\n",
       "    <tr>\n",
       "      <th>ANTONIO NARINO</th>\n",
       "      <td>3721</td>\n",
       "    </tr>\n",
       "    <tr>\n",
       "      <th>CANDELARIA</th>\n",
       "      <td>882</td>\n",
       "    </tr>\n",
       "    <tr>\n",
       "      <th>SUMAPAZ</th>\n",
       "      <td>7</td>\n",
       "    </tr>\n",
       "  </tbody>\n",
       "</table>\n",
       "</div>"
      ],
      "text/plain": [
       "                    LOCALIDAD\n",
       "KENNEDY                 23661\n",
       "ENGATIVA                20928\n",
       "USAQUEN                 19292\n",
       "SUBA                    18973\n",
       "FONTIBON                16377\n",
       "PUENTE ARANDA           14143\n",
       "CHAPINERO               11696\n",
       "TEUSAQUILLO             10167\n",
       "BARRIOS UNIDOS          10094\n",
       "BOSA                     9417\n",
       "CIUDAD BOLIVAR           8005\n",
       "LOS MARTIRES             6250\n",
       "SANTA FE                 5451\n",
       "TUNJUELITO               5351\n",
       "SAN CRISTOBAL            5335\n",
       "RAFAEL URIBE URIBE       5333\n",
       "USME                     4017\n",
       "ANTONIO NARINO           3721\n",
       "CANDELARIA                882\n",
       "SUMAPAZ                     7"
      ]
     },
     "execution_count": 62,
     "metadata": {},
     "output_type": "execute_result"
    }
   ],
   "source": [
    "marrimeko=df.LOCALIDAD.value_counts().to_frame()\n",
    "marrimeko"
   ]
  },
  {
   "cell_type": "code",
   "execution_count": 63,
   "metadata": {},
   "outputs": [
    {
     "data": {
      "text/plain": [
       "array([23661, 20928, 19292, 18973, 16377, 14143, 11696, 10167, 10094,\n",
       "        9417,  8005,  6250,  5451,  5351,  5335,  5333,  4017,  3721,\n",
       "         882,     7], dtype=int64)"
      ]
     },
     "execution_count": 63,
     "metadata": {},
     "output_type": "execute_result"
    }
   ],
   "source": [
    "marrimeko['LOCALIDAD'].values"
   ]
  },
  {
   "cell_type": "code",
   "execution_count": 65,
   "metadata": {},
   "outputs": [
    {
     "data": {
      "text/plain": [
       "Index(['KENNEDY', 'ENGATIVA', 'USAQUEN', 'SUBA', 'FONTIBON', 'PUENTE ARANDA',\n",
       "       'CHAPINERO', 'TEUSAQUILLO', 'BARRIOS UNIDOS', 'BOSA', 'CIUDAD BOLIVAR',\n",
       "       'LOS MARTIRES', 'SANTA FE', 'TUNJUELITO', 'SAN CRISTOBAL',\n",
       "       'RAFAEL URIBE URIBE', 'USME', 'ANTONIO NARINO', 'CANDELARIA',\n",
       "       'SUMAPAZ'],\n",
       "      dtype='object')"
      ]
     },
     "execution_count": 65,
     "metadata": {},
     "output_type": "execute_result"
    }
   ],
   "source": [
    "label=marrimeko.index\n",
    "label"
   ]
  }
 ],
 "metadata": {
  "kernelspec": {
   "display_name": "Python 3.8.8 ('base')",
   "language": "python",
   "name": "python3"
  },
  "language_info": {
   "codemirror_mode": {
    "name": "ipython",
    "version": 3
   },
   "file_extension": ".py",
   "mimetype": "text/x-python",
   "name": "python",
   "nbconvert_exporter": "python",
   "pygments_lexer": "ipython3",
   "version": "3.8.8"
  },
  "orig_nbformat": 4,
  "vscode": {
   "interpreter": {
    "hash": "ad2bdc8ecc057115af97d19610ffacc2b4e99fae6737bb82f5d7fb13d2f2c186"
   }
  }
 },
 "nbformat": 4,
 "nbformat_minor": 2
}
